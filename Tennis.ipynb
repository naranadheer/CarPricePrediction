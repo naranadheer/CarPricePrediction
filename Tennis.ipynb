{
  "nbformat": 4,
  "nbformat_minor": 0,
  "metadata": {
    "colab": {
      "name": "Tennis.ipynb",
      "provenance": [],
      "authorship_tag": "ABX9TyNswW+wlX4NkX4Lb3OlHHnE",
      "include_colab_link": true
    },
    "kernelspec": {
      "name": "python3",
      "display_name": "Python 3"
    }
  },
  "cells": [
    {
      "cell_type": "markdown",
      "metadata": {
        "id": "view-in-github",
        "colab_type": "text"
      },
      "source": [
        "<a href=\"https://colab.research.google.com/github/naranadheer/CarPricePrediction/blob/master/Tennis.ipynb\" target=\"_parent\"><img src=\"https://colab.research.google.com/assets/colab-badge.svg\" alt=\"Open In Colab\"/></a>"
      ]
    },
    {
      "cell_type": "code",
      "metadata": {
        "id": "JBKHlv2idVKD",
        "colab_type": "code",
        "colab": {}
      },
      "source": [
        "\n",
        "import pandas as pd\n",
        "import matplotlib.pyplot as plt\n",
        "from sklearn.model_selection import train_test_split\n",
        "from sklearn.linear_model import LinearRegression\n",
        "import numpy as np"
      ],
      "execution_count": 23,
      "outputs": []
    },
    {
      "cell_type": "code",
      "metadata": {
        "id": "glLsABuuivMn",
        "colab_type": "code",
        "colab": {}
      },
      "source": [
        ""
      ],
      "execution_count": null,
      "outputs": []
    },
    {
      "cell_type": "code",
      "metadata": {
        "id": "VAF64d9ldymf",
        "colab_type": "code",
        "colab": {
          "base_uri": "https://localhost:8080/",
          "height": 339
        },
        "outputId": "6462f406-94ef-4d7a-ee7b-740ea416b9b3"
      },
      "source": [
        "df=pd.read_csv('/content/sample_data/tennis_stats.csv')\n",
        "df.head()"
      ],
      "execution_count": 3,
      "outputs": [
        {
          "output_type": "execute_result",
          "data": {
            "text/html": [
              "<div>\n",
              "<style scoped>\n",
              "    .dataframe tbody tr th:only-of-type {\n",
              "        vertical-align: middle;\n",
              "    }\n",
              "\n",
              "    .dataframe tbody tr th {\n",
              "        vertical-align: top;\n",
              "    }\n",
              "\n",
              "    .dataframe thead th {\n",
              "        text-align: right;\n",
              "    }\n",
              "</style>\n",
              "<table border=\"1\" class=\"dataframe\">\n",
              "  <thead>\n",
              "    <tr style=\"text-align: right;\">\n",
              "      <th></th>\n",
              "      <th>Player</th>\n",
              "      <th>Year</th>\n",
              "      <th>FirstServe</th>\n",
              "      <th>FirstServePointsWon</th>\n",
              "      <th>FirstServeReturnPointsWon</th>\n",
              "      <th>SecondServePointsWon</th>\n",
              "      <th>SecondServeReturnPointsWon</th>\n",
              "      <th>Aces</th>\n",
              "      <th>BreakPointsConverted</th>\n",
              "      <th>BreakPointsFaced</th>\n",
              "      <th>BreakPointsOpportunities</th>\n",
              "      <th>BreakPointsSaved</th>\n",
              "      <th>DoubleFaults</th>\n",
              "      <th>ReturnGamesPlayed</th>\n",
              "      <th>ReturnGamesWon</th>\n",
              "      <th>ReturnPointsWon</th>\n",
              "      <th>ServiceGamesPlayed</th>\n",
              "      <th>ServiceGamesWon</th>\n",
              "      <th>TotalPointsWon</th>\n",
              "      <th>TotalServicePointsWon</th>\n",
              "      <th>Wins</th>\n",
              "      <th>Losses</th>\n",
              "      <th>Winnings</th>\n",
              "      <th>Ranking</th>\n",
              "    </tr>\n",
              "  </thead>\n",
              "  <tbody>\n",
              "    <tr>\n",
              "      <th>0</th>\n",
              "      <td>Pedro Sousa</td>\n",
              "      <td>2016</td>\n",
              "      <td>0.88</td>\n",
              "      <td>0.50</td>\n",
              "      <td>0.38</td>\n",
              "      <td>0.50</td>\n",
              "      <td>0.39</td>\n",
              "      <td>0</td>\n",
              "      <td>0.14</td>\n",
              "      <td>7</td>\n",
              "      <td>7</td>\n",
              "      <td>0.43</td>\n",
              "      <td>2</td>\n",
              "      <td>9</td>\n",
              "      <td>0.11</td>\n",
              "      <td>0.38</td>\n",
              "      <td>8</td>\n",
              "      <td>0.50</td>\n",
              "      <td>0.43</td>\n",
              "      <td>0.50</td>\n",
              "      <td>1</td>\n",
              "      <td>2</td>\n",
              "      <td>39820</td>\n",
              "      <td>119</td>\n",
              "    </tr>\n",
              "    <tr>\n",
              "      <th>1</th>\n",
              "      <td>Roman Safiullin</td>\n",
              "      <td>2017</td>\n",
              "      <td>0.84</td>\n",
              "      <td>0.62</td>\n",
              "      <td>0.26</td>\n",
              "      <td>0.33</td>\n",
              "      <td>0.07</td>\n",
              "      <td>7</td>\n",
              "      <td>0.00</td>\n",
              "      <td>7</td>\n",
              "      <td>0</td>\n",
              "      <td>0.57</td>\n",
              "      <td>1</td>\n",
              "      <td>9</td>\n",
              "      <td>0.00</td>\n",
              "      <td>0.20</td>\n",
              "      <td>9</td>\n",
              "      <td>0.67</td>\n",
              "      <td>0.41</td>\n",
              "      <td>0.57</td>\n",
              "      <td>0</td>\n",
              "      <td>1</td>\n",
              "      <td>17334</td>\n",
              "      <td>381</td>\n",
              "    </tr>\n",
              "    <tr>\n",
              "      <th>2</th>\n",
              "      <td>Pedro Sousa</td>\n",
              "      <td>2017</td>\n",
              "      <td>0.83</td>\n",
              "      <td>0.60</td>\n",
              "      <td>0.28</td>\n",
              "      <td>0.53</td>\n",
              "      <td>0.44</td>\n",
              "      <td>2</td>\n",
              "      <td>0.38</td>\n",
              "      <td>10</td>\n",
              "      <td>8</td>\n",
              "      <td>0.40</td>\n",
              "      <td>1</td>\n",
              "      <td>19</td>\n",
              "      <td>0.16</td>\n",
              "      <td>0.34</td>\n",
              "      <td>17</td>\n",
              "      <td>0.65</td>\n",
              "      <td>0.45</td>\n",
              "      <td>0.59</td>\n",
              "      <td>4</td>\n",
              "      <td>1</td>\n",
              "      <td>109827</td>\n",
              "      <td>119</td>\n",
              "    </tr>\n",
              "    <tr>\n",
              "      <th>3</th>\n",
              "      <td>Rogerio Dutra Silva</td>\n",
              "      <td>2010</td>\n",
              "      <td>0.83</td>\n",
              "      <td>0.64</td>\n",
              "      <td>0.34</td>\n",
              "      <td>0.59</td>\n",
              "      <td>0.33</td>\n",
              "      <td>2</td>\n",
              "      <td>0.33</td>\n",
              "      <td>5</td>\n",
              "      <td>6</td>\n",
              "      <td>0.40</td>\n",
              "      <td>0</td>\n",
              "      <td>14</td>\n",
              "      <td>0.14</td>\n",
              "      <td>0.34</td>\n",
              "      <td>15</td>\n",
              "      <td>0.80</td>\n",
              "      <td>0.49</td>\n",
              "      <td>0.63</td>\n",
              "      <td>0</td>\n",
              "      <td>0</td>\n",
              "      <td>9761</td>\n",
              "      <td>125</td>\n",
              "    </tr>\n",
              "    <tr>\n",
              "      <th>4</th>\n",
              "      <td>Daniel Gimeno-Traver</td>\n",
              "      <td>2017</td>\n",
              "      <td>0.81</td>\n",
              "      <td>0.54</td>\n",
              "      <td>0.00</td>\n",
              "      <td>0.33</td>\n",
              "      <td>0.33</td>\n",
              "      <td>1</td>\n",
              "      <td>0.00</td>\n",
              "      <td>2</td>\n",
              "      <td>0</td>\n",
              "      <td>0.50</td>\n",
              "      <td>2</td>\n",
              "      <td>3</td>\n",
              "      <td>0.00</td>\n",
              "      <td>0.20</td>\n",
              "      <td>2</td>\n",
              "      <td>0.50</td>\n",
              "      <td>0.35</td>\n",
              "      <td>0.50</td>\n",
              "      <td>0</td>\n",
              "      <td>1</td>\n",
              "      <td>32879</td>\n",
              "      <td>272</td>\n",
              "    </tr>\n",
              "  </tbody>\n",
              "</table>\n",
              "</div>"
            ],
            "text/plain": [
              "                 Player  Year  FirstServe  ...  Losses  Winnings  Ranking\n",
              "0           Pedro Sousa  2016        0.88  ...       2     39820      119\n",
              "1       Roman Safiullin  2017        0.84  ...       1     17334      381\n",
              "2           Pedro Sousa  2017        0.83  ...       1    109827      119\n",
              "3   Rogerio Dutra Silva  2010        0.83  ...       0      9761      125\n",
              "4  Daniel Gimeno-Traver  2017        0.81  ...       1     32879      272\n",
              "\n",
              "[5 rows x 24 columns]"
            ]
          },
          "metadata": {
            "tags": []
          },
          "execution_count": 3
        }
      ]
    },
    {
      "cell_type": "code",
      "metadata": {
        "id": "VDmPdsqkdw-N",
        "colab_type": "code",
        "colab": {
          "base_uri": "https://localhost:8080/",
          "height": 35
        },
        "outputId": "b25dfa28-7cc8-4d0a-a2b2-6ed6c3b1d350"
      },
      "source": [
        "df.shape"
      ],
      "execution_count": 5,
      "outputs": [
        {
          "output_type": "execute_result",
          "data": {
            "text/plain": [
              "(1721, 24)"
            ]
          },
          "metadata": {
            "tags": []
          },
          "execution_count": 5
        }
      ]
    },
    {
      "cell_type": "code",
      "metadata": {
        "id": "ThtQHVh7d-j3",
        "colab_type": "code",
        "colab": {
          "base_uri": "https://localhost:8080/",
          "height": 553
        },
        "outputId": "00f4d5b7-e7de-41c1-d946-436c4887f45f"
      },
      "source": [
        "df.info()"
      ],
      "execution_count": 7,
      "outputs": [
        {
          "output_type": "stream",
          "text": [
            "<class 'pandas.core.frame.DataFrame'>\n",
            "RangeIndex: 1721 entries, 0 to 1720\n",
            "Data columns (total 24 columns):\n",
            " #   Column                      Non-Null Count  Dtype  \n",
            "---  ------                      --------------  -----  \n",
            " 0   Player                      1721 non-null   object \n",
            " 1   Year                        1721 non-null   int64  \n",
            " 2   FirstServe                  1721 non-null   float64\n",
            " 3   FirstServePointsWon         1721 non-null   float64\n",
            " 4   FirstServeReturnPointsWon   1721 non-null   float64\n",
            " 5   SecondServePointsWon        1721 non-null   float64\n",
            " 6   SecondServeReturnPointsWon  1721 non-null   float64\n",
            " 7   Aces                        1721 non-null   int64  \n",
            " 8   BreakPointsConverted        1721 non-null   float64\n",
            " 9   BreakPointsFaced            1721 non-null   int64  \n",
            " 10  BreakPointsOpportunities    1721 non-null   int64  \n",
            " 11  BreakPointsSaved            1721 non-null   float64\n",
            " 12  DoubleFaults                1721 non-null   int64  \n",
            " 13  ReturnGamesPlayed           1721 non-null   int64  \n",
            " 14  ReturnGamesWon              1721 non-null   float64\n",
            " 15  ReturnPointsWon             1721 non-null   float64\n",
            " 16  ServiceGamesPlayed          1721 non-null   int64  \n",
            " 17  ServiceGamesWon             1721 non-null   float64\n",
            " 18  TotalPointsWon              1721 non-null   float64\n",
            " 19  TotalServicePointsWon       1721 non-null   float64\n",
            " 20  Wins                        1721 non-null   int64  \n",
            " 21  Losses                      1721 non-null   int64  \n",
            " 22  Winnings                    1721 non-null   int64  \n",
            " 23  Ranking                     1721 non-null   int64  \n",
            "dtypes: float64(12), int64(11), object(1)\n",
            "memory usage: 322.8+ KB\n"
          ],
          "name": "stdout"
        }
      ]
    },
    {
      "cell_type": "code",
      "metadata": {
        "id": "RaZveMgmeIX3",
        "colab_type": "code",
        "colab": {
          "base_uri": "https://localhost:8080/",
          "height": 527
        },
        "outputId": "2e57d3b7-1fab-47d7-e6bb-9ef55e5c7852"
      },
      "source": [
        "plt.scatter(df.BreakPointsOpportunities,df.Wins)\n",
        "plt.show()\n",
        "plt.scatter(df.BreakPointsOpportunities,df.Winnings)\n",
        "plt.show()"
      ],
      "execution_count": 16,
      "outputs": [
        {
          "output_type": "display_data",
          "data": {
            "image/png": "[encoded data removed]",
            "text/plain": [
              "<Figure size 432x288 with 1 Axes>"
            ]
          },
          "metadata": {
            "tags": [],
            "needs_background": "light"
          }
        },
        {
          "output_type": "display_data",
          "data": {
            "image/png": "[encoded data removed]",
            "text/plain": [
              "<Figure size 432x288 with 1 Axes>"
            ]
          },
          "metadata": {
            "tags": [],
            "needs_background": "light"
          }
        }
      ]
    },
    {
      "cell_type": "code",
      "metadata": {
        "id": "ftuWueHrgf0W",
        "colab_type": "code",
        "colab": {
          "base_uri": "https://localhost:8080/",
          "height": 268
        },
        "outputId": "217d37f1-6566-4529-fb6b-61aedf39d84a"
      },
      "source": [
        "plt.scatter(df.TotalPointsWon,df.Wins)\n",
        "plt.show()"
      ],
      "execution_count": 13,
      "outputs": [
        {
          "output_type": "display_data",
          "data": {
            "image/png": "[encoded data removed]",
            "text/plain": [
              "<Figure size 432x288 with 1 Axes>"
            ]
          },
          "metadata": {
            "tags": [],
            "needs_background": "light"
          }
        }
      ]
    },
    {
      "cell_type": "code",
      "metadata": {
        "id": "uv6367Iogq93",
        "colab_type": "code",
        "colab": {
          "base_uri": "https://localhost:8080/",
          "height": 52
        },
        "outputId": "84fe71cb-1cda-4117-d8b5-ba90b09c620c"
      },
      "source": [
        "X=df['BreakPointsOpportunities']\n",
        "y=df['Wins']\n",
        "print(X.shape)\n",
        "print(y.shape)"
      ],
      "execution_count": 21,
      "outputs": [
        {
          "output_type": "stream",
          "text": [
            "(1721,)\n",
            "(1721,)\n"
          ],
          "name": "stdout"
        }
      ]
    },
    {
      "cell_type": "code",
      "metadata": {
        "id": "FO3mHLLcimuO",
        "colab_type": "code",
        "colab": {
          "base_uri": "https://localhost:8080/",
          "height": 217
        },
        "outputId": "c9f1dc72-ffaf-4060-be0a-16d8c4a8459a"
      },
      "source": [
        "X=X.values.reshape(-1, 1)\n",
        "print(X.shape)\n"
      ],
      "execution_count": 29,
      "outputs": [
        {
          "output_type": "error",
          "ename": "AttributeError",
          "evalue": "ignored",
          "traceback": [
            "\u001b[0;31m---------------------------------------------------------------------------\u001b[0m",
            "\u001b[0;31mAttributeError\u001b[0m                            Traceback (most recent call last)",
            "\u001b[0;32m<ipython-input-29-18dec5454d09>\u001b[0m in \u001b[0;36m<module>\u001b[0;34m()\u001b[0m\n\u001b[0;32m----> 1\u001b[0;31m \u001b[0mX\u001b[0m\u001b[0;34m=\u001b[0m\u001b[0mX\u001b[0m\u001b[0;34m.\u001b[0m\u001b[0mvalues\u001b[0m\u001b[0;34m.\u001b[0m\u001b[0mreshape\u001b[0m\u001b[0;34m(\u001b[0m\u001b[0;34m-\u001b[0m\u001b[0;36m1\u001b[0m\u001b[0;34m,\u001b[0m \u001b[0;36m1\u001b[0m\u001b[0;34m)\u001b[0m\u001b[0;34m\u001b[0m\u001b[0;34m\u001b[0m\u001b[0m\n\u001b[0m\u001b[1;32m      2\u001b[0m \u001b[0mprint\u001b[0m\u001b[0;34m(\u001b[0m\u001b[0mX\u001b[0m\u001b[0;34m.\u001b[0m\u001b[0mshape\u001b[0m\u001b[0;34m)\u001b[0m\u001b[0;34m\u001b[0m\u001b[0;34m\u001b[0m\u001b[0m\n\u001b[1;32m      3\u001b[0m \u001b[0my\u001b[0m\u001b[0;34m=\u001b[0m\u001b[0my\u001b[0m\u001b[0;34m.\u001b[0m\u001b[0mvalues\u001b[0m\u001b[0;34m.\u001b[0m\u001b[0mreshape\u001b[0m\u001b[0;34m(\u001b[0m\u001b[0;34m-\u001b[0m\u001b[0;36m1\u001b[0m\u001b[0;34m,\u001b[0m \u001b[0;36m1\u001b[0m\u001b[0;34m)\u001b[0m\u001b[0;34m\u001b[0m\u001b[0;34m\u001b[0m\u001b[0m\n\u001b[1;32m      4\u001b[0m \u001b[0mprint\u001b[0m\u001b[0;34m(\u001b[0m\u001b[0my\u001b[0m\u001b[0;34m.\u001b[0m\u001b[0mshape\u001b[0m\u001b[0;34m)\u001b[0m\u001b[0;34m\u001b[0m\u001b[0;34m\u001b[0m\u001b[0m\n",
            "\u001b[0;31mAttributeError\u001b[0m: 'numpy.ndarray' object has no attribute 'values'"
          ]
        }
      ]
    },
    {
      "cell_type": "code",
      "metadata": {
        "id": "8DIVb3afjfK-",
        "colab_type": "code",
        "colab": {
          "base_uri": "https://localhost:8080/",
          "height": 35
        },
        "outputId": "a157774a-e03d-4db3-83d5-58af4bcbf0cb"
      },
      "source": [
        "y=y.values.reshape(-1, 1)\n",
        "print(y.shape)"
      ],
      "execution_count": 30,
      "outputs": [
        {
          "output_type": "stream",
          "text": [
            "(1721, 1)\n"
          ],
          "name": "stdout"
        }
      ]
    },
    {
      "cell_type": "code",
      "metadata": {
        "id": "EZC95NQci0B4",
        "colab_type": "code",
        "colab": {}
      },
      "source": [
        ""
      ],
      "execution_count": null,
      "outputs": []
    },
    {
      "cell_type": "code",
      "metadata": {
        "id": "ZYymHGq2ixFL",
        "colab_type": "code",
        "colab": {}
      },
      "source": [
        ""
      ],
      "execution_count": null,
      "outputs": []
    },
    {
      "cell_type": "code",
      "metadata": {
        "id": "ObPNl9N5irkH",
        "colab_type": "code",
        "colab": {}
      },
      "source": [
        ""
      ],
      "execution_count": null,
      "outputs": []
    },
    {
      "cell_type": "code",
      "metadata": {
        "id": "4UdkPOfqiFwf",
        "colab_type": "code",
        "colab": {}
      },
      "source": [
        "X_train, X_test, y_train, y_test = train_test_split(X, y, test_size=0.33, random_state=42)\n",
        " "
      ],
      "execution_count": 31,
      "outputs": []
    },
    {
      "cell_type": "code",
      "metadata": {
        "id": "3T7tkeJsiVlv",
        "colab_type": "code",
        "colab": {
          "base_uri": "https://localhost:8080/",
          "height": 86
        },
        "outputId": "883ee576-d5bd-4e61-e7f1-a3818197aeae"
      },
      "source": [
        "print(X_train.shape)\n",
        "print(X_test.shape)\n",
        "print(y_train.shape)\n",
        "print(y_test.shape)"
      ],
      "execution_count": 32,
      "outputs": [
        {
          "output_type": "stream",
          "text": [
            "(1153, 1)\n",
            "(568, 1)\n",
            "(1153, 1)\n",
            "(568, 1)\n"
          ],
          "name": "stdout"
        }
      ]
    },
    {
      "cell_type": "code",
      "metadata": {
        "id": "vTYVemq-iegm",
        "colab_type": "code",
        "colab": {
          "base_uri": "https://localhost:8080/",
          "height": 35
        },
        "outputId": "80ef6fca-1f72-4c87-9b23-c62d3be287b3"
      },
      "source": [
        "reg=LinearRegression()\n",
        "reg.fit(X_train,y_train)"
      ],
      "execution_count": 33,
      "outputs": [
        {
          "output_type": "execute_result",
          "data": {
            "text/plain": [
              "LinearRegression(copy_X=True, fit_intercept=True, n_jobs=None, normalize=False)"
            ]
          },
          "metadata": {
            "tags": []
          },
          "execution_count": 33
        }
      ]
    },
    {
      "cell_type": "code",
      "metadata": {
        "id": "vOogp7fkjOCW",
        "colab_type": "code",
        "colab": {}
      },
      "source": [
        "y_predict=reg.predict(X_test)"
      ],
      "execution_count": 34,
      "outputs": []
    },
    {
      "cell_type": "code",
      "metadata": {
        "id": "Vet3s2yNkDtb",
        "colab_type": "code",
        "colab": {
          "base_uri": "https://localhost:8080/",
          "height": 265
        },
        "outputId": "c9bcd4fa-cef5-4070-fa28-d4c7efd0989d"
      },
      "source": [
        "plt.scatter(y_test,y_predict, alpha=0.4)\n",
        "plt.show()"
      ],
      "execution_count": 38,
      "outputs": [
        {
          "output_type": "display_data",
          "data": {
            "image/png": "[encoded data removed]",
            "text/plain": [
              "<Figure size 432x288 with 1 Axes>"
            ]
          },
          "metadata": {
            "tags": [],
            "needs_background": "light"
          }
        }
      ]
    },
    {
      "cell_type": "code",
      "metadata": {
        "id": "jNTEquahkOtP",
        "colab_type": "code",
        "colab": {
          "base_uri": "https://localhost:8080/",
          "height": 35
        },
        "outputId": "d03bf422-67e9-4eb6-c5e3-455553d6521d"
      },
      "source": [
        "reg.score(X_test,y_test)"
      ],
      "execution_count": 39,
      "outputs": [
        {
          "output_type": "execute_result",
          "data": {
            "text/plain": [
              "0.8198420577968317"
            ]
          },
          "metadata": {
            "tags": []
          },
          "execution_count": 39
        }
      ]
    },
    {
      "cell_type": "code",
      "metadata": {
        "id": "ZFWTL_vgk3Zv",
        "colab_type": "code",
        "colab": {}
      },
      "source": [
        "f2=df[['FirstServeReturnPointsWon']]\n",
        "f2_outcome=df[['Wins']]"
      ],
      "execution_count": 40,
      "outputs": []
    },
    {
      "cell_type": "code",
      "metadata": {
        "id": "u1p-Q_x1kMAn",
        "colab_type": "code",
        "colab": {}
      },
      "source": [
        "X_train, X_test, y_train, y_test = train_test_split(f2, f2_outcome, test_size=0.33, random_state=42)"
      ],
      "execution_count": 41,
      "outputs": []
    },
    {
      "cell_type": "code",
      "metadata": {
        "id": "KHQ3pYSViaOf",
        "colab_type": "code",
        "colab": {
          "base_uri": "https://localhost:8080/",
          "height": 35
        },
        "outputId": "ff0b4a79-c5d5-4491-a09e-549993546544"
      },
      "source": [
        "reg=LinearRegression()\n",
        "reg.fit(X_train,y_train)"
      ],
      "execution_count": 42,
      "outputs": [
        {
          "output_type": "execute_result",
          "data": {
            "text/plain": [
              "LinearRegression(copy_X=True, fit_intercept=True, n_jobs=None, normalize=False)"
            ]
          },
          "metadata": {
            "tags": []
          },
          "execution_count": 42
        }
      ]
    },
    {
      "cell_type": "code",
      "metadata": {
        "id": "3eFfTYewgjm_",
        "colab_type": "code",
        "colab": {
          "base_uri": "https://localhost:8080/",
          "height": 35
        },
        "outputId": "86b627b0-9071-44e9-c91d-48ea864b0aa5"
      },
      "source": [
        "reg.score(X_test,y_test)"
      ],
      "execution_count": 43,
      "outputs": [
        {
          "output_type": "execute_result",
          "data": {
            "text/plain": [
              "0.053623949937653737"
            ]
          },
          "metadata": {
            "tags": []
          },
          "execution_count": 43
        }
      ]
    },
    {
      "cell_type": "code",
      "metadata": {
        "id": "W93xT0jigbZV",
        "colab_type": "code",
        "colab": {
          "base_uri": "https://localhost:8080/",
          "height": 35
        },
        "outputId": "0f9367f8-5129-46d8-e99e-a299c1d11faa"
      },
      "source": [
        "reg.score(X_train,y_train)"
      ],
      "execution_count": 44,
      "outputs": [
        {
          "output_type": "execute_result",
          "data": {
            "text/plain": [
              "0.07139889287014956"
            ]
          },
          "metadata": {
            "tags": []
          },
          "execution_count": 44
        }
      ]
    },
    {
      "cell_type": "code",
      "metadata": {
        "id": "x80VTLWrfOIG",
        "colab_type": "code",
        "colab": {}
      },
      "source": [
        "y_predict=reg.predict(X_test)"
      ],
      "execution_count": 45,
      "outputs": []
    },
    {
      "cell_type": "code",
      "metadata": {
        "id": "m307R2gCfETX",
        "colab_type": "code",
        "colab": {
          "base_uri": "https://localhost:8080/",
          "height": 265
        },
        "outputId": "ad60f81f-1212-4dec-caeb-bb66064f5026"
      },
      "source": [
        "plt.scatter(y_test,y_predict, alpha=0.4)\n",
        "plt.show()"
      ],
      "execution_count": 46,
      "outputs": [
        {
          "output_type": "display_data",
          "data": {
            "image/png": "[encoded data removed]",
            "text/plain": [
              "<Figure size 432x288 with 1 Axes>"
            ]
          },
          "metadata": {
            "tags": [],
            "needs_background": "light"
          }
        }
      ]
    },
    {
      "cell_type": "code",
      "metadata": {
        "id": "UciY_JiGeA_v",
        "colab_type": "code",
        "colab": {}
      },
      "source": [
        ""
      ],
      "execution_count": null,
      "outputs": []
    }
  ]
}